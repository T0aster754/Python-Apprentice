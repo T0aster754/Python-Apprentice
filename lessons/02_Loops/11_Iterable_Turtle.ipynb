{
 "cells": [
  {
   "cell_type": "code",
   "execution_count": null,
   "metadata": {},
   "outputs": [],
   "source": [
    "\"\"\"\n",
    "Programmable turtle graphics\n",
    "\n",
    "Use what you've learned about lists, loop, cycle, slice and zip to draw a pattern\n",
    "\n",
    "\"\"\"\n",
    "\n",
    "from itertools import cycle, islice\n",
    "import turtle\n",
    "turtle.setup (width=600, height=600)\n",
    "tina = turtle.Turtle()\n",
    "tina.shape('turtle')\n",
    "tina.speed(2)\n",
    "# Create a turtle like in previous programs, like 04_Crazy_Tina.py\n",
    "\n",
    "colors = [\"red\", \"orange\", \"yellow\", \"green\", \"blue\", \"purple\"]\n",
    "\n",
    "directions = [ # Create a list of directions and angles\n",
    "    ( 30, 100 ),\n",
    "    ( 60, 200 ),# Add more\n",
    "    ( 120, 400 ),\n",
    "    (100, 300),\n",
    "    (50, 400), \n",
    "    (60, 200),\n",
    "    (30, 100),\n",
    "]\n",
    "\n",
    "# Zip the colors and directions together, then unpack them. THere is a good example of this\n",
    "# in 10_More_iterables.ipynb in the discussion of zip()\n",
    "\n",
    "for colors, (angle, distance) in islice(cycle(zip(colors, directions)),0, 8):\n",
    "    turtle.color(colors)\n",
    "    turtle.forward(distance)\n",
    "    turtle.left(angle)\n",
    "\n",
    "\n",
    "# Don't forget the special way to end a turtle program. \n",
    "turtle.exitonclick()"
   ]
  }
 ],
 "metadata": {
  "kernelspec": {
   "display_name": ".venv",
   "language": "python",
   "name": "python3"
  },
  "language_info": {
   "codemirror_mode": {
    "name": "ipython",
    "version": 3
   },
   "file_extension": ".py",
   "mimetype": "text/x-python",
   "name": "python",
   "nbconvert_exporter": "python",
   "pygments_lexer": "ipython3",
   "version": "3.12.4"
  }
 },
 "nbformat": 4,
 "nbformat_minor": 2
}
