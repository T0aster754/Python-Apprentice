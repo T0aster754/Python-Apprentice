{
 "cells": [
  {
   "cell_type": "code",
   "execution_count": null,
   "metadata": {},
   "outputs": [],
   "source": [
    "\"\"\"\n",
    "Programmable turtle graphics\n",
    "\n",
    "Use what you've learned about lists, loop, cycle, slice and zip to draw a pattern\n",
    "\"\"\"\n",
    "\n",
    "from itertools import cycle, islice\n",
    "import turtle\n",
    "\n",
    "# Setup turtle window\n",
    "turtle.setup(width=600, height=600)\n",
    "\n",
    "# Create the turtle\n",
    "tina = turtle.Turtle()\n",
    "tina.shape('turtle')\n",
    "tina.speed(2)\n",
    "\n",
    "# Define colors and directions\n",
    "colors = [\"red\", \"orange\", \"yellow\", \"green\", \"blue\", \"purple\"]\n",
    "\n",
    "directions = [\n",
    "    (30, 100),\n",
    "    (60, 200),\n",
    "    (120, 400),\n",
    "    (100, 300),\n",
    "    (50, 400),\n",
    "    (60, 200),\n",
    "    (30, 100),\n",
    "]\n",
    "\n",
    "# Loop through zipped and cycled colors and directions\n",
    "for color, (angle, distance) in islice(cycle(zip(colors, directions)), 8):\n",
    "    tina.color(color)\n",
    "    tina.forward(distance)\n",
    "    tina.left(angle)\n",
    "\n",
    "# End the program on click\n",
    "turtle.exitonclick()\n"
   ]
  }
 ],
 "metadata": {
  "kernelspec": {
   "display_name": ".venv",
   "language": "python",
   "name": "python3"
  },
  "language_info": {
   "codemirror_mode": {
    "name": "ipython",
    "version": 3
   },
   "file_extension": ".py",
   "mimetype": "text/x-python",
   "name": "python",
   "nbconvert_exporter": "python",
   "pygments_lexer": "ipython3",
   "version": "3.12.4"
  }
 },
 "nbformat": 4,
 "nbformat_minor": 2
}
